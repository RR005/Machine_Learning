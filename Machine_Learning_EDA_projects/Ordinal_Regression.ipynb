{
 "cells": [
  {
   "cell_type": "code",
   "execution_count": null,
   "metadata": {
    "id": "rg-twfqXrSwc"
   },
   "outputs": [],
   "source": [
    "import pandas as pd\n",
    "import numpy as np"
   ]
  },
  {
   "cell_type": "code",
   "execution_count": null,
   "metadata": {
    "id": "0VD4GabOrSwg"
   },
   "outputs": [],
   "source": [
    "df=pd.read_excel('Data_Train.xlsx')"
   ]
  },
  {
   "cell_type": "markdown",
   "metadata": {
    "id": "1Hyx_31pLUhb"
   },
   "source": [
    "The dataset is a delivery Prediction dataset where we are asked to predict the delivery time given specific attributes"
   ]
  },
  {
   "cell_type": "code",
   "execution_count": null,
   "metadata": {
    "colab": {
     "base_uri": "https://localhost:8080/",
     "height": 205
    },
    "id": "mm3YanDVrSwh",
    "outputId": "f94213f6-762a-4437-d552-622cdbc56776"
   },
   "outputs": [
    {
     "data": {
      "text/html": [
       "\n",
       "  <div id=\"df-02130da5-14c7-4076-9cbe-b706778404ef\">\n",
       "    <div class=\"colab-df-container\">\n",
       "      <div>\n",
       "<style scoped>\n",
       "    .dataframe tbody tr th:only-of-type {\n",
       "        vertical-align: middle;\n",
       "    }\n",
       "\n",
       "    .dataframe tbody tr th {\n",
       "        vertical-align: top;\n",
       "    }\n",
       "\n",
       "    .dataframe thead th {\n",
       "        text-align: right;\n",
       "    }\n",
       "</style>\n",
       "<table border=\"1\" class=\"dataframe\">\n",
       "  <thead>\n",
       "    <tr style=\"text-align: right;\">\n",
       "      <th></th>\n",
       "      <th>Restaurant</th>\n",
       "      <th>Location</th>\n",
       "      <th>Cuisines</th>\n",
       "      <th>Average_Cost</th>\n",
       "      <th>Minimum_Order</th>\n",
       "      <th>Rating</th>\n",
       "      <th>Votes</th>\n",
       "      <th>Reviews</th>\n",
       "      <th>Delivery_Time</th>\n",
       "    </tr>\n",
       "  </thead>\n",
       "  <tbody>\n",
       "    <tr>\n",
       "      <th>0</th>\n",
       "      <td>ID_6321</td>\n",
       "      <td>FTI College, Law College Road, Pune</td>\n",
       "      <td>Fast Food, Rolls, Burger, Salad, Wraps</td>\n",
       "      <td>₹200</td>\n",
       "      <td>₹50</td>\n",
       "      <td>3.5</td>\n",
       "      <td>12</td>\n",
       "      <td>4</td>\n",
       "      <td>30 minutes</td>\n",
       "    </tr>\n",
       "    <tr>\n",
       "      <th>1</th>\n",
       "      <td>ID_2882</td>\n",
       "      <td>Sector 3, Marathalli</td>\n",
       "      <td>Ice Cream, Desserts</td>\n",
       "      <td>₹100</td>\n",
       "      <td>₹50</td>\n",
       "      <td>3.5</td>\n",
       "      <td>11</td>\n",
       "      <td>4</td>\n",
       "      <td>30 minutes</td>\n",
       "    </tr>\n",
       "    <tr>\n",
       "      <th>2</th>\n",
       "      <td>ID_1595</td>\n",
       "      <td>Mumbai Central</td>\n",
       "      <td>Italian, Street Food, Fast Food</td>\n",
       "      <td>₹150</td>\n",
       "      <td>₹50</td>\n",
       "      <td>3.6</td>\n",
       "      <td>99</td>\n",
       "      <td>30</td>\n",
       "      <td>65 minutes</td>\n",
       "    </tr>\n",
       "  </tbody>\n",
       "</table>\n",
       "</div>\n",
       "      <button class=\"colab-df-convert\" onclick=\"convertToInteractive('df-02130da5-14c7-4076-9cbe-b706778404ef')\"\n",
       "              title=\"Convert this dataframe to an interactive table.\"\n",
       "              style=\"display:none;\">\n",
       "        \n",
       "  <svg xmlns=\"http://www.w3.org/2000/svg\" height=\"24px\"viewBox=\"0 0 24 24\"\n",
       "       width=\"24px\">\n",
       "    <path d=\"M0 0h24v24H0V0z\" fill=\"none\"/>\n",
       "    <path d=\"M18.56 5.44l.94 2.06.94-2.06 2.06-.94-2.06-.94-.94-2.06-.94 2.06-2.06.94zm-11 1L8.5 8.5l.94-2.06 2.06-.94-2.06-.94L8.5 2.5l-.94 2.06-2.06.94zm10 10l.94 2.06.94-2.06 2.06-.94-2.06-.94-.94-2.06-.94 2.06-2.06.94z\"/><path d=\"M17.41 7.96l-1.37-1.37c-.4-.4-.92-.59-1.43-.59-.52 0-1.04.2-1.43.59L10.3 9.45l-7.72 7.72c-.78.78-.78 2.05 0 2.83L4 21.41c.39.39.9.59 1.41.59.51 0 1.02-.2 1.41-.59l7.78-7.78 2.81-2.81c.8-.78.8-2.07 0-2.86zM5.41 20L4 18.59l7.72-7.72 1.47 1.35L5.41 20z\"/>\n",
       "  </svg>\n",
       "      </button>\n",
       "      \n",
       "  <style>\n",
       "    .colab-df-container {\n",
       "      display:flex;\n",
       "      flex-wrap:wrap;\n",
       "      gap: 12px;\n",
       "    }\n",
       "\n",
       "    .colab-df-convert {\n",
       "      background-color: #E8F0FE;\n",
       "      border: none;\n",
       "      border-radius: 50%;\n",
       "      cursor: pointer;\n",
       "      display: none;\n",
       "      fill: #1967D2;\n",
       "      height: 32px;\n",
       "      padding: 0 0 0 0;\n",
       "      width: 32px;\n",
       "    }\n",
       "\n",
       "    .colab-df-convert:hover {\n",
       "      background-color: #E2EBFA;\n",
       "      box-shadow: 0px 1px 2px rgba(60, 64, 67, 0.3), 0px 1px 3px 1px rgba(60, 64, 67, 0.15);\n",
       "      fill: #174EA6;\n",
       "    }\n",
       "\n",
       "    [theme=dark] .colab-df-convert {\n",
       "      background-color: #3B4455;\n",
       "      fill: #D2E3FC;\n",
       "    }\n",
       "\n",
       "    [theme=dark] .colab-df-convert:hover {\n",
       "      background-color: #434B5C;\n",
       "      box-shadow: 0px 1px 3px 1px rgba(0, 0, 0, 0.15);\n",
       "      filter: drop-shadow(0px 1px 2px rgba(0, 0, 0, 0.3));\n",
       "      fill: #FFFFFF;\n",
       "    }\n",
       "  </style>\n",
       "\n",
       "      <script>\n",
       "        const buttonEl =\n",
       "          document.querySelector('#df-02130da5-14c7-4076-9cbe-b706778404ef button.colab-df-convert');\n",
       "        buttonEl.style.display =\n",
       "          google.colab.kernel.accessAllowed ? 'block' : 'none';\n",
       "\n",
       "        async function convertToInteractive(key) {\n",
       "          const element = document.querySelector('#df-02130da5-14c7-4076-9cbe-b706778404ef');\n",
       "          const dataTable =\n",
       "            await google.colab.kernel.invokeFunction('convertToInteractive',\n",
       "                                                     [key], {});\n",
       "          if (!dataTable) return;\n",
       "\n",
       "          const docLinkHtml = 'Like what you see? Visit the ' +\n",
       "            '<a target=\"_blank\" href=https://colab.research.google.com/notebooks/data_table.ipynb>data table notebook</a>'\n",
       "            + ' to learn more about interactive tables.';\n",
       "          element.innerHTML = '';\n",
       "          dataTable['output_type'] = 'display_data';\n",
       "          await google.colab.output.renderOutput(dataTable, element);\n",
       "          const docLink = document.createElement('div');\n",
       "          docLink.innerHTML = docLinkHtml;\n",
       "          element.appendChild(docLink);\n",
       "        }\n",
       "      </script>\n",
       "    </div>\n",
       "  </div>\n",
       "  "
      ],
      "text/plain": [
       "  Restaurant                             Location  \\\n",
       "0    ID_6321  FTI College, Law College Road, Pune   \n",
       "1    ID_2882                 Sector 3, Marathalli   \n",
       "2    ID_1595                       Mumbai Central   \n",
       "\n",
       "                                 Cuisines Average_Cost Minimum_Order Rating  \\\n",
       "0  Fast Food, Rolls, Burger, Salad, Wraps         ₹200           ₹50    3.5   \n",
       "1                     Ice Cream, Desserts         ₹100           ₹50    3.5   \n",
       "2         Italian, Street Food, Fast Food         ₹150           ₹50    3.6   \n",
       "\n",
       "  Votes Reviews Delivery_Time  \n",
       "0    12       4    30 minutes  \n",
       "1    11       4    30 minutes  \n",
       "2    99      30    65 minutes  "
      ]
     },
     "execution_count": 3,
     "metadata": {},
     "output_type": "execute_result"
    }
   ],
   "source": [
    "df.head(3)"
   ]
  },
  {
   "cell_type": "code",
   "execution_count": null,
   "metadata": {
    "colab": {
     "base_uri": "https://localhost:8080/"
    },
    "id": "3IbqSpYc60ms",
    "outputId": "f5006d74-c469-45a6-a197-5eec31a327f9"
   },
   "outputs": [
    {
     "data": {
      "text/plain": [
       "Restaurant       0\n",
       "Location         0\n",
       "Cuisines         0\n",
       "Average_Cost     0\n",
       "Minimum_Order    0\n",
       "Rating           0\n",
       "Votes            0\n",
       "Reviews          0\n",
       "Delivery_Time    0\n",
       "dtype: int64"
      ]
     },
     "execution_count": 4,
     "metadata": {},
     "output_type": "execute_result"
    }
   ],
   "source": [
    "df.isna().sum()"
   ]
  },
  {
   "cell_type": "code",
   "execution_count": null,
   "metadata": {
    "colab": {
     "base_uri": "https://localhost:8080/"
    },
    "id": "wKz82tUZ_D5k",
    "outputId": "2c4b9a47-3170-4684-c708-d7234483b2fb"
   },
   "outputs": [
    {
     "name": "stdout",
     "output_type": "stream",
     "text": [
      "The total number of values is 11094\n"
     ]
    },
    {
     "data": {
      "text/plain": [
       "Restaurant       7480\n",
       "Location           35\n",
       "Cuisines         2179\n",
       "Average_Cost       26\n",
       "Minimum_Order      18\n",
       "Rating             33\n",
       "Votes            1103\n",
       "Reviews           761\n",
       "Delivery_Time       7\n",
       "dtype: int64"
      ]
     },
     "execution_count": 5,
     "metadata": {},
     "output_type": "execute_result"
    }
   ],
   "source": [
    "print(\"The total number of values is\",len(df))\n",
    "df.nunique(axis = 0)"
   ]
  },
  {
   "cell_type": "markdown",
   "metadata": {
    "id": "HsihGvPR6-68"
   },
   "source": [
    "All these features look like they dont have null values in them but on observing each of them individually we could see they have null values"
   ]
  },
  {
   "cell_type": "code",
   "execution_count": null,
   "metadata": {
    "colab": {
     "base_uri": "https://localhost:8080/"
    },
    "id": "k4SIRF4c6AQd",
    "outputId": "5f2f482f-f941-4f82-f122-b3d2b96e985e"
   },
   "outputs": [
    {
     "data": {
      "text/plain": [
       "-                     1191\n",
       "3.7                    869\n",
       "3.6                    846\n",
       "3.5                    818\n",
       "3.8                    800\n",
       "NEW                    758\n",
       "3.9                    749\n",
       "3.4                    718\n",
       "3.3                    675\n",
       "4.0                    614\n",
       "3.2                    511\n",
       "4.1                    459\n",
       "3.1                    411\n",
       "3.0                    302\n",
       "4.2                    272\n",
       "4.3                    247\n",
       "2.9                    199\n",
       "2.8                    157\n",
       "4.4                    142\n",
       "4.5                     78\n",
       "2.7                     76\n",
       "2.6                     42\n",
       "4.6                     41\n",
       "4.7                     36\n",
       "2.5                     27\n",
       "2.4                     13\n",
       "4.8                     13\n",
       "Opening Soon            12\n",
       "4.9                      8\n",
       "2.3                      6\n",
       "Temporarily Closed       2\n",
       "2.2                      1\n",
       "2.1                      1\n",
       "Name: Rating, dtype: int64"
      ]
     },
     "execution_count": 6,
     "metadata": {},
     "output_type": "execute_result"
    }
   ],
   "source": [
    "df['Rating'].value_counts()"
   ]
  },
  {
   "cell_type": "markdown",
   "metadata": {
    "id": "rGsigTYM7U3i"
   },
   "source": [
    "The operning soon and temporarily closed are not null values but they're not rating values so we need to replace them"
   ]
  },
  {
   "cell_type": "code",
   "execution_count": null,
   "metadata": {
    "colab": {
     "base_uri": "https://localhost:8080/"
    },
    "id": "a5W8WXXf6Wb-",
    "outputId": "7ccb2ad3-8db2-4b56-a7f0-cc909f849463"
   },
   "outputs": [
    {
     "data": {
      "text/plain": [
       "₹200      3241\n",
       "₹100      2557\n",
       "₹150      2462\n",
       "₹250       881\n",
       "₹300       537\n",
       "₹350       283\n",
       "₹400       282\n",
       "₹50        265\n",
       "₹600       154\n",
       "₹500       101\n",
       "₹450        63\n",
       "₹550        60\n",
       "₹650        55\n",
       "₹800        44\n",
       "₹750        38\n",
       "₹900        15\n",
       "₹700        15\n",
       "₹1,000      12\n",
       "₹850        12\n",
       "₹1,200       8\n",
       "₹950         4\n",
       "₹1,150       1\n",
       "for          1\n",
       "₹1,100       1\n",
       "₹1,400       1\n",
       "₹2,050       1\n",
       "Name: Average_Cost, dtype: int64"
      ]
     },
     "execution_count": 7,
     "metadata": {},
     "output_type": "execute_result"
    }
   ],
   "source": [
    "df[\"Average_Cost\"].value_counts()"
   ]
  },
  {
   "cell_type": "markdown",
   "metadata": {
    "id": "gQrsd5-y7nfk"
   },
   "source": [
    "There is a value called for in Average_Cost we need to replace them. We also have to remove '₹' and ' , ' in these values so we can convert them into integer values"
   ]
  },
  {
   "cell_type": "code",
   "execution_count": null,
   "metadata": {
    "colab": {
     "base_uri": "https://localhost:8080/"
    },
    "id": "y7iDidmH6esL",
    "outputId": "83edfbf2-6718-4749-c484-84ae50fec3ea"
   },
   "outputs": [
    {
     "data": {
      "text/plain": [
       "₹50     10118\n",
       "₹99       779\n",
       "₹0        158\n",
       "₹199        8\n",
       "₹200        8\n",
       "₹299        3\n",
       "₹59         3\n",
       "₹350        3\n",
       "₹79         2\n",
       "₹90         2\n",
       "₹450        2\n",
       "₹300        2\n",
       "₹400        1\n",
       "₹250        1\n",
       "₹150        1\n",
       "₹240        1\n",
       "₹89         1\n",
       "₹500        1\n",
       "Name: Minimum_Order, dtype: int64"
      ]
     },
     "execution_count": 8,
     "metadata": {},
     "output_type": "execute_result"
    }
   ],
   "source": [
    "df[\"Minimum_Order\"].value_counts()"
   ]
  },
  {
   "cell_type": "markdown",
   "metadata": {
    "id": "TupiW1488Ged"
   },
   "source": [
    "We need to remove '₹' from the Minimu_Order all these values"
   ]
  },
  {
   "cell_type": "code",
   "execution_count": null,
   "metadata": {
    "colab": {
     "base_uri": "https://localhost:8080/"
    },
    "id": "OciYvJVh6loh",
    "outputId": "bab28201-2dea-43c1-8fe1-6b3d17e92c45"
   },
   "outputs": [
    {
     "data": {
      "text/plain": [
       "-       2074\n",
       "4        248\n",
       "6        200\n",
       "7        182\n",
       "9        181\n",
       "        ... \n",
       "1106       1\n",
       "935        1\n",
       "663        1\n",
       "1116       1\n",
       "3700       1\n",
       "Name: Votes, Length: 1103, dtype: int64"
      ]
     },
     "execution_count": 9,
     "metadata": {},
     "output_type": "execute_result"
    }
   ],
   "source": [
    "df[\"Votes\"].value_counts()"
   ]
  },
  {
   "cell_type": "markdown",
   "metadata": {
    "id": "6FcjM9gM8VHQ"
   },
   "source": [
    "There are no null values in votes column. But there is a value '-' in this so we need to remove before trying to fill the values or before making the type to int/flot"
   ]
  },
  {
   "cell_type": "code",
   "execution_count": null,
   "metadata": {
    "colab": {
     "base_uri": "https://localhost:8080/"
    },
    "id": "WWbnG6Zn6tcj",
    "outputId": "172caafa-2f97-4e22-8ff5-97c49da30d10"
   },
   "outputs": [
    {
     "data": {
      "text/plain": [
       "-       2312\n",
       "2        420\n",
       "3        387\n",
       "1        381\n",
       "4        356\n",
       "        ... \n",
       "1501       1\n",
       "983        1\n",
       "343        1\n",
       "397        1\n",
       "549        1\n",
       "Name: Reviews, Length: 761, dtype: int64"
      ]
     },
     "execution_count": 10,
     "metadata": {},
     "output_type": "execute_result"
    }
   ],
   "source": [
    "df[\"Reviews\"].value_counts()"
   ]
  },
  {
   "cell_type": "markdown",
   "metadata": {
    "id": "FbKJp6Ki81sJ"
   },
   "source": [
    "There are no null values in Review column. But there is a value '-' in this so we need to remove before trying to fill the values or before making the type to int/flot"
   ]
  },
  {
   "cell_type": "code",
   "execution_count": null,
   "metadata": {
    "colab": {
     "base_uri": "https://localhost:8080/"
    },
    "id": "CI0VVkH9AYtS",
    "outputId": "d8ff7814-eb51-4cd8-fa35-4a2b4439f6e3"
   },
   "outputs": [
    {
     "data": {
      "text/plain": [
       "0        30 minutes\n",
       "1        30 minutes\n",
       "2        65 minutes\n",
       "3        30 minutes\n",
       "4        65 minutes\n",
       "            ...    \n",
       "11089    30 minutes\n",
       "11090    30 minutes\n",
       "11091    30 minutes\n",
       "11092    30 minutes\n",
       "11093    30 minutes\n",
       "Name: Delivery_Time, Length: 11094, dtype: object"
      ]
     },
     "execution_count": 11,
     "metadata": {},
     "output_type": "execute_result"
    }
   ],
   "source": [
    "df['Delivery_Time']"
   ]
  },
  {
   "cell_type": "markdown",
   "metadata": {
    "id": "kamG-gFVAgTz"
   },
   "source": [
    "We need to remove minutes from Delivery_Time feature and also convert it into int/float"
   ]
  },
  {
   "cell_type": "code",
   "execution_count": null,
   "metadata": {
    "colab": {
     "base_uri": "https://localhost:8080/"
    },
    "id": "AdI2ZGrI3w9K",
    "outputId": "502a764e-260b-49ff-b58d-ada4602f8017"
   },
   "outputs": [
    {
     "data": {
      "text/plain": [
       "0        30\n",
       "1        30\n",
       "2        65\n",
       "3        30\n",
       "4        65\n",
       "         ..\n",
       "11089    30\n",
       "11090    30\n",
       "11091    30\n",
       "11092    30\n",
       "11093    30\n",
       "Name: Delivery_Time, Length: 11094, dtype: int64"
      ]
     },
     "execution_count": 12,
     "metadata": {},
     "output_type": "execute_result"
    }
   ],
   "source": [
    "df['Delivery_Time'] = df['Delivery_Time'].map(lambda x: x[0:2]).astype(int)\n",
    "df['Delivery_Time']"
   ]
  },
  {
   "cell_type": "code",
   "execution_count": null,
   "metadata": {
    "colab": {
     "base_uri": "https://localhost:8080/"
    },
    "id": "Uv-E9vpY9ANs",
    "outputId": "5bc23764-3657-4e8d-f4a0-c6ddcb8c66f6"
   },
   "outputs": [
    {
     "data": {
      "text/plain": [
       "2179"
      ]
     },
     "execution_count": 13,
     "metadata": {},
     "output_type": "execute_result"
    }
   ],
   "source": [
    "df['Cuisines'].nunique()"
   ]
  },
  {
   "cell_type": "markdown",
   "metadata": {
    "id": "_et2UXLx9ILi"
   },
   "source": [
    "There are 2179 unique values in it but since each value has multiple food we can't treat this as 1 categorical feature"
   ]
  },
  {
   "cell_type": "code",
   "execution_count": null,
   "metadata": {
    "colab": {
     "base_uri": "https://localhost:8080/"
    },
    "id": "njjICu1urSwi",
    "outputId": "520c3895-a2ff-4643-e5ad-c711aa781c93"
   },
   "outputs": [
    {
     "data": {
      "text/plain": [
       "101"
      ]
     },
     "execution_count": 14,
     "metadata": {},
     "output_type": "execute_result"
    }
   ],
   "source": [
    "a=df[\"Cuisines\"]\n",
    "food={}\n",
    "k=1\n",
    "\n",
    "for i in df['Cuisines']:\n",
    "    for j in i.split(\",\"):\n",
    "      j=''.join(j.split())\n",
    "\n",
    "      if food.get(j,0) == 0:\n",
    "          food[j]=k\n",
    "          k+=1\n",
    "len(food)"
   ]
  },
  {
   "cell_type": "markdown",
   "metadata": {
    "id": "--cHQTZk1Qtu"
   },
   "source": [
    "There are 101 types of unique food in cuisines features. So we can take each food value and change it into a column instead of treating each value in the column as 1 cuisine"
   ]
  },
  {
   "cell_type": "code",
   "execution_count": null,
   "metadata": {
    "id": "7L0HoNPhrSwl"
   },
   "outputs": [],
   "source": [
    "from sklearn.preprocessing import LabelEncoder\n",
    "from sklearn.preprocessing import OneHotEncoder\n",
    "def preprocess(daf):\n",
    "\n",
    "    # chganging the type of rating feature\n",
    "    for i in range(len(daf)):\n",
    "            try:\n",
    "                daf[\"Rating\"][i]=float(daf[\"Rating\"][i])\n",
    "            except:\n",
    "                daf[\"Rating\"][i]=None\n",
    "            \n",
    "    bad_chars=[\",\",\"₹\"]\n",
    "\n",
    "    #removing \",\" and \"₹\"  from \"Average_Cost\",\"Minimum_Order\",\"Votes\" and \"Reviews\" and making it float\n",
    "    def func(vals):\n",
    "        for val in vals:\n",
    "            for i in range(len(daf)):\n",
    "                for j in bad_chars:\n",
    "                    daf[val][i]=daf[val][i].replace(j,\"\")\n",
    "                try:\n",
    "                    daf[val][i]=float(daf[val][i])\n",
    "                except:\n",
    "                    daf[val][i]=None\n",
    "    vals=[\"Average_Cost\",\"Minimum_Order\",\"Votes\",\"Reviews\"]\n",
    "    func(vals)\n",
    "\n",
    "\n",
    "\n",
    "    #using the food dictionary to turn each food item in the \"Cusines\" column into a new feature \n",
    "    table=[[0 for i in range(101)] for k in range(len(daf))]\n",
    "    table2=[[0 for i in range(35)] for k in range(len(daf))]    \n",
    "    for i in range(len(daf)):\n",
    "        for j in daf[\"Cuisines\"][i].split(\",\"):\n",
    "            while \" \" in j:\n",
    "                j=j.replace(\" \",\"\")\n",
    "            table[i][food[j]-1]=1    \n",
    "    table=pd.DataFrame(table,columns=food)\n",
    "    daf=daf.join(table)\n",
    "\n",
    "\n",
    "\n",
    "    #Since we've added the food items to the dataset we can remove the \"Cuisinses\" feature\n",
    "    #Out of 11094 Restaurant has 7480 unique values and since all of them are id's we cant use them\n",
    "    daf.drop([\"Cuisines\"],axis=1,inplace=True)\n",
    "    daf.drop([\"Restaurant\"],axis=1,inplace=True)\n",
    "\n",
    "\n",
    "    #Now that most of the features are float values we can use the mean to fill them\n",
    "    daf=daf.fillna(daf.mean())\n",
    "\n",
    "    return daf"
   ]
  },
  {
   "cell_type": "code",
   "execution_count": null,
   "metadata": {
    "colab": {
     "background_save": true,
     "base_uri": "https://localhost:8080/"
    },
    "id": "LJXuWluKrSwm",
    "outputId": "9b7232d7-9dab-485b-c0b8-9aaacb158d55"
   },
   "outputs": [
    {
     "name": "stderr",
     "output_type": "stream",
     "text": [
      "/usr/local/lib/python3.7/dist-packages/ipykernel_launcher.py:8: SettingWithCopyWarning: \n",
      "A value is trying to be set on a copy of a slice from a DataFrame\n",
      "\n",
      "See the caveats in the documentation: https://pandas.pydata.org/pandas-docs/stable/user_guide/indexing.html#returning-a-view-versus-a-copy\n",
      "  \n",
      "/usr/local/lib/python3.7/dist-packages/ipykernel_launcher.py:10: SettingWithCopyWarning: \n",
      "A value is trying to be set on a copy of a slice from a DataFrame\n",
      "\n",
      "See the caveats in the documentation: https://pandas.pydata.org/pandas-docs/stable/user_guide/indexing.html#returning-a-view-versus-a-copy\n",
      "  # Remove the CWD from sys.path while we load stuff.\n",
      "/usr/local/lib/python3.7/dist-packages/ipykernel_launcher.py:19: SettingWithCopyWarning: \n",
      "A value is trying to be set on a copy of a slice from a DataFrame\n",
      "\n",
      "See the caveats in the documentation: https://pandas.pydata.org/pandas-docs/stable/user_guide/indexing.html#returning-a-view-versus-a-copy\n",
      "/usr/local/lib/python3.7/dist-packages/ipykernel_launcher.py:21: SettingWithCopyWarning: \n",
      "A value is trying to be set on a copy of a slice from a DataFrame\n",
      "\n",
      "See the caveats in the documentation: https://pandas.pydata.org/pandas-docs/stable/user_guide/indexing.html#returning-a-view-versus-a-copy\n",
      "/usr/local/lib/python3.7/dist-packages/ipykernel_launcher.py:23: SettingWithCopyWarning: \n",
      "A value is trying to be set on a copy of a slice from a DataFrame\n",
      "\n",
      "See the caveats in the documentation: https://pandas.pydata.org/pandas-docs/stable/user_guide/indexing.html#returning-a-view-versus-a-copy\n",
      "/usr/local/lib/python3.7/dist-packages/ipykernel_launcher.py:49: FutureWarning: Dropping of nuisance columns in DataFrame reductions (with 'numeric_only=None') is deprecated; in a future version this will raise TypeError.  Select only valid columns before calling the reduction.\n"
     ]
    }
   ],
   "source": [
    "df=preprocess(df)"
   ]
  },
  {
   "cell_type": "code",
   "execution_count": null,
   "metadata": {
    "colab": {
     "background_save": true
    },
    "id": "TFb-PE6hBKYS",
    "outputId": "718114f4-b3ce-4789-a7dc-714480d1ed9c"
   },
   "outputs": [
    {
     "data": {
      "text/html": [
       "\n",
       "  <div id=\"df-ed84c908-f4e5-48a3-9709-a590a7824ad3\">\n",
       "    <div class=\"colab-df-container\">\n",
       "      <div>\n",
       "<style scoped>\n",
       "    .dataframe tbody tr th:only-of-type {\n",
       "        vertical-align: middle;\n",
       "    }\n",
       "\n",
       "    .dataframe tbody tr th {\n",
       "        vertical-align: top;\n",
       "    }\n",
       "\n",
       "    .dataframe thead th {\n",
       "        text-align: right;\n",
       "    }\n",
       "</style>\n",
       "<table border=\"1\" class=\"dataframe\">\n",
       "  <thead>\n",
       "    <tr style=\"text-align: right;\">\n",
       "      <th></th>\n",
       "      <th>Location</th>\n",
       "      <th>Average_Cost</th>\n",
       "      <th>Minimum_Order</th>\n",
       "      <th>Rating</th>\n",
       "      <th>Votes</th>\n",
       "      <th>Reviews</th>\n",
       "      <th>Delivery_Time</th>\n",
       "      <th>FastFood</th>\n",
       "      <th>Rolls</th>\n",
       "      <th>Burger</th>\n",
       "      <th>...</th>\n",
       "      <th>Nepalese</th>\n",
       "      <th>Indian</th>\n",
       "      <th>Tex-Mex</th>\n",
       "      <th>Hotdogs</th>\n",
       "      <th>SouthAmerican</th>\n",
       "      <th>MiddleEastern</th>\n",
       "      <th>African</th>\n",
       "      <th>Turkish</th>\n",
       "      <th>Israeli</th>\n",
       "      <th>Greek</th>\n",
       "    </tr>\n",
       "  </thead>\n",
       "  <tbody>\n",
       "    <tr>\n",
       "      <th>0</th>\n",
       "      <td>FTI College, Law College Road, Pune</td>\n",
       "      <td>200.0</td>\n",
       "      <td>50.0</td>\n",
       "      <td>3.5</td>\n",
       "      <td>12.0</td>\n",
       "      <td>4.0</td>\n",
       "      <td>30</td>\n",
       "      <td>1</td>\n",
       "      <td>1</td>\n",
       "      <td>1</td>\n",
       "      <td>...</td>\n",
       "      <td>0</td>\n",
       "      <td>0</td>\n",
       "      <td>0</td>\n",
       "      <td>0</td>\n",
       "      <td>0</td>\n",
       "      <td>0</td>\n",
       "      <td>0</td>\n",
       "      <td>0</td>\n",
       "      <td>0</td>\n",
       "      <td>0</td>\n",
       "    </tr>\n",
       "    <tr>\n",
       "      <th>1</th>\n",
       "      <td>Sector 3, Marathalli</td>\n",
       "      <td>100.0</td>\n",
       "      <td>50.0</td>\n",
       "      <td>3.5</td>\n",
       "      <td>11.0</td>\n",
       "      <td>4.0</td>\n",
       "      <td>30</td>\n",
       "      <td>0</td>\n",
       "      <td>0</td>\n",
       "      <td>0</td>\n",
       "      <td>...</td>\n",
       "      <td>0</td>\n",
       "      <td>0</td>\n",
       "      <td>0</td>\n",
       "      <td>0</td>\n",
       "      <td>0</td>\n",
       "      <td>0</td>\n",
       "      <td>0</td>\n",
       "      <td>0</td>\n",
       "      <td>0</td>\n",
       "      <td>0</td>\n",
       "    </tr>\n",
       "    <tr>\n",
       "      <th>2</th>\n",
       "      <td>Mumbai Central</td>\n",
       "      <td>150.0</td>\n",
       "      <td>50.0</td>\n",
       "      <td>3.6</td>\n",
       "      <td>99.0</td>\n",
       "      <td>30.0</td>\n",
       "      <td>65</td>\n",
       "      <td>1</td>\n",
       "      <td>0</td>\n",
       "      <td>0</td>\n",
       "      <td>...</td>\n",
       "      <td>0</td>\n",
       "      <td>0</td>\n",
       "      <td>0</td>\n",
       "      <td>0</td>\n",
       "      <td>0</td>\n",
       "      <td>0</td>\n",
       "      <td>0</td>\n",
       "      <td>0</td>\n",
       "      <td>0</td>\n",
       "      <td>0</td>\n",
       "    </tr>\n",
       "    <tr>\n",
       "      <th>3</th>\n",
       "      <td>Sector 1, Noida</td>\n",
       "      <td>250.0</td>\n",
       "      <td>99.0</td>\n",
       "      <td>3.7</td>\n",
       "      <td>176.0</td>\n",
       "      <td>95.0</td>\n",
       "      <td>30</td>\n",
       "      <td>0</td>\n",
       "      <td>0</td>\n",
       "      <td>0</td>\n",
       "      <td>...</td>\n",
       "      <td>0</td>\n",
       "      <td>0</td>\n",
       "      <td>0</td>\n",
       "      <td>0</td>\n",
       "      <td>0</td>\n",
       "      <td>0</td>\n",
       "      <td>0</td>\n",
       "      <td>0</td>\n",
       "      <td>0</td>\n",
       "      <td>0</td>\n",
       "    </tr>\n",
       "    <tr>\n",
       "      <th>4</th>\n",
       "      <td>Rmz Centennial, I Gate, Whitefield</td>\n",
       "      <td>200.0</td>\n",
       "      <td>99.0</td>\n",
       "      <td>3.2</td>\n",
       "      <td>521.0</td>\n",
       "      <td>235.0</td>\n",
       "      <td>65</td>\n",
       "      <td>0</td>\n",
       "      <td>0</td>\n",
       "      <td>0</td>\n",
       "      <td>...</td>\n",
       "      <td>0</td>\n",
       "      <td>0</td>\n",
       "      <td>0</td>\n",
       "      <td>0</td>\n",
       "      <td>0</td>\n",
       "      <td>0</td>\n",
       "      <td>0</td>\n",
       "      <td>0</td>\n",
       "      <td>0</td>\n",
       "      <td>0</td>\n",
       "    </tr>\n",
       "  </tbody>\n",
       "</table>\n",
       "<p>5 rows × 108 columns</p>\n",
       "</div>\n",
       "      <button class=\"colab-df-convert\" onclick=\"convertToInteractive('df-ed84c908-f4e5-48a3-9709-a590a7824ad3')\"\n",
       "              title=\"Convert this dataframe to an interactive table.\"\n",
       "              style=\"display:none;\">\n",
       "        \n",
       "  <svg xmlns=\"http://www.w3.org/2000/svg\" height=\"24px\"viewBox=\"0 0 24 24\"\n",
       "       width=\"24px\">\n",
       "    <path d=\"M0 0h24v24H0V0z\" fill=\"none\"/>\n",
       "    <path d=\"M18.56 5.44l.94 2.06.94-2.06 2.06-.94-2.06-.94-.94-2.06-.94 2.06-2.06.94zm-11 1L8.5 8.5l.94-2.06 2.06-.94-2.06-.94L8.5 2.5l-.94 2.06-2.06.94zm10 10l.94 2.06.94-2.06 2.06-.94-2.06-.94-.94-2.06-.94 2.06-2.06.94z\"/><path d=\"M17.41 7.96l-1.37-1.37c-.4-.4-.92-.59-1.43-.59-.52 0-1.04.2-1.43.59L10.3 9.45l-7.72 7.72c-.78.78-.78 2.05 0 2.83L4 21.41c.39.39.9.59 1.41.59.51 0 1.02-.2 1.41-.59l7.78-7.78 2.81-2.81c.8-.78.8-2.07 0-2.86zM5.41 20L4 18.59l7.72-7.72 1.47 1.35L5.41 20z\"/>\n",
       "  </svg>\n",
       "      </button>\n",
       "      \n",
       "  <style>\n",
       "    .colab-df-container {\n",
       "      display:flex;\n",
       "      flex-wrap:wrap;\n",
       "      gap: 12px;\n",
       "    }\n",
       "\n",
       "    .colab-df-convert {\n",
       "      background-color: #E8F0FE;\n",
       "      border: none;\n",
       "      border-radius: 50%;\n",
       "      cursor: pointer;\n",
       "      display: none;\n",
       "      fill: #1967D2;\n",
       "      height: 32px;\n",
       "      padding: 0 0 0 0;\n",
       "      width: 32px;\n",
       "    }\n",
       "\n",
       "    .colab-df-convert:hover {\n",
       "      background-color: #E2EBFA;\n",
       "      box-shadow: 0px 1px 2px rgba(60, 64, 67, 0.3), 0px 1px 3px 1px rgba(60, 64, 67, 0.15);\n",
       "      fill: #174EA6;\n",
       "    }\n",
       "\n",
       "    [theme=dark] .colab-df-convert {\n",
       "      background-color: #3B4455;\n",
       "      fill: #D2E3FC;\n",
       "    }\n",
       "\n",
       "    [theme=dark] .colab-df-convert:hover {\n",
       "      background-color: #434B5C;\n",
       "      box-shadow: 0px 1px 3px 1px rgba(0, 0, 0, 0.15);\n",
       "      filter: drop-shadow(0px 1px 2px rgba(0, 0, 0, 0.3));\n",
       "      fill: #FFFFFF;\n",
       "    }\n",
       "  </style>\n",
       "\n",
       "      <script>\n",
       "        const buttonEl =\n",
       "          document.querySelector('#df-ed84c908-f4e5-48a3-9709-a590a7824ad3 button.colab-df-convert');\n",
       "        buttonEl.style.display =\n",
       "          google.colab.kernel.accessAllowed ? 'block' : 'none';\n",
       "\n",
       "        async function convertToInteractive(key) {\n",
       "          const element = document.querySelector('#df-ed84c908-f4e5-48a3-9709-a590a7824ad3');\n",
       "          const dataTable =\n",
       "            await google.colab.kernel.invokeFunction('convertToInteractive',\n",
       "                                                     [key], {});\n",
       "          if (!dataTable) return;\n",
       "\n",
       "          const docLinkHtml = 'Like what you see? Visit the ' +\n",
       "            '<a target=\"_blank\" href=https://colab.research.google.com/notebooks/data_table.ipynb>data table notebook</a>'\n",
       "            + ' to learn more about interactive tables.';\n",
       "          element.innerHTML = '';\n",
       "          dataTable['output_type'] = 'display_data';\n",
       "          await google.colab.output.renderOutput(dataTable, element);\n",
       "          const docLink = document.createElement('div');\n",
       "          docLink.innerHTML = docLinkHtml;\n",
       "          element.appendChild(docLink);\n",
       "        }\n",
       "      </script>\n",
       "    </div>\n",
       "  </div>\n",
       "  "
      ],
      "text/plain": [
       "                              Location  Average_Cost  Minimum_Order  Rating  \\\n",
       "0  FTI College, Law College Road, Pune         200.0           50.0     3.5   \n",
       "1                 Sector 3, Marathalli         100.0           50.0     3.5   \n",
       "2                       Mumbai Central         150.0           50.0     3.6   \n",
       "3                      Sector 1, Noida         250.0           99.0     3.7   \n",
       "4   Rmz Centennial, I Gate, Whitefield         200.0           99.0     3.2   \n",
       "\n",
       "   Votes  Reviews  Delivery_Time  FastFood  Rolls  Burger  ...  Nepalese  \\\n",
       "0   12.0      4.0             30         1      1       1  ...         0   \n",
       "1   11.0      4.0             30         0      0       0  ...         0   \n",
       "2   99.0     30.0             65         1      0       0  ...         0   \n",
       "3  176.0     95.0             30         0      0       0  ...         0   \n",
       "4  521.0    235.0             65         0      0       0  ...         0   \n",
       "\n",
       "   Indian  Tex-Mex  Hotdogs  SouthAmerican  MiddleEastern  African  Turkish  \\\n",
       "0       0        0        0              0              0        0        0   \n",
       "1       0        0        0              0              0        0        0   \n",
       "2       0        0        0              0              0        0        0   \n",
       "3       0        0        0              0              0        0        0   \n",
       "4       0        0        0              0              0        0        0   \n",
       "\n",
       "   Israeli  Greek  \n",
       "0        0      0  \n",
       "1        0      0  \n",
       "2        0      0  \n",
       "3        0      0  \n",
       "4        0      0  \n",
       "\n",
       "[5 rows x 108 columns]"
      ]
     },
     "execution_count": null,
     "metadata": {},
     "output_type": "execute_result"
    }
   ],
   "source": [
    "df.head()"
   ]
  },
  {
   "cell_type": "markdown",
   "metadata": {
    "id": "zICuuphMBfb7"
   },
   "source": [
    "The last thing we need to either convert or drop the Location attribute in the dataset"
   ]
  },
  {
   "cell_type": "code",
   "execution_count": 18,
   "metadata": {
    "colab": {
     "base_uri": "https://localhost:8080/"
    },
    "id": "aOYsR0-QBn5-",
    "outputId": "19372163-bd07-422c-fbda-f4dffb964b7f"
   },
   "outputs": [
    {
     "data": {
      "text/plain": [
       "35"
      ]
     },
     "execution_count": 18,
     "metadata": {},
     "output_type": "execute_result"
    }
   ],
   "source": [
    "df['Location'].nunique()"
   ]
  },
  {
   "cell_type": "code",
   "execution_count": 19,
   "metadata": {
    "colab": {
     "base_uri": "https://localhost:8080/",
     "height": 299
    },
    "id": "U6-37katBeC_",
    "outputId": "e1d2746b-c79c-498a-ad6a-f41fe4898d1f"
   },
   "outputs": [
    {
     "data": {
      "text/html": [
       "\n",
       "  <div id=\"df-58f9858f-7156-4b45-b820-0df163a16f7e\">\n",
       "    <div class=\"colab-df-container\">\n",
       "      <div>\n",
       "<style scoped>\n",
       "    .dataframe tbody tr th:only-of-type {\n",
       "        vertical-align: middle;\n",
       "    }\n",
       "\n",
       "    .dataframe tbody tr th {\n",
       "        vertical-align: top;\n",
       "    }\n",
       "\n",
       "    .dataframe thead th {\n",
       "        text-align: right;\n",
       "    }\n",
       "</style>\n",
       "<table border=\"1\" class=\"dataframe\">\n",
       "  <thead>\n",
       "    <tr style=\"text-align: right;\">\n",
       "      <th></th>\n",
       "      <th>Average_Cost</th>\n",
       "      <th>Minimum_Order</th>\n",
       "      <th>Rating</th>\n",
       "      <th>Votes</th>\n",
       "      <th>Reviews</th>\n",
       "      <th>Delivery_Time</th>\n",
       "      <th>FastFood</th>\n",
       "      <th>Rolls</th>\n",
       "      <th>Burger</th>\n",
       "      <th>Salad</th>\n",
       "      <th>...</th>\n",
       "      <th>25</th>\n",
       "      <th>26</th>\n",
       "      <th>27</th>\n",
       "      <th>28</th>\n",
       "      <th>29</th>\n",
       "      <th>30</th>\n",
       "      <th>31</th>\n",
       "      <th>32</th>\n",
       "      <th>33</th>\n",
       "      <th>34</th>\n",
       "    </tr>\n",
       "  </thead>\n",
       "  <tbody>\n",
       "    <tr>\n",
       "      <th>0</th>\n",
       "      <td>200.0</td>\n",
       "      <td>50.0</td>\n",
       "      <td>3.5</td>\n",
       "      <td>12.0</td>\n",
       "      <td>4.0</td>\n",
       "      <td>30</td>\n",
       "      <td>1</td>\n",
       "      <td>1</td>\n",
       "      <td>1</td>\n",
       "      <td>1</td>\n",
       "      <td>...</td>\n",
       "      <td>0.0</td>\n",
       "      <td>0.0</td>\n",
       "      <td>0.0</td>\n",
       "      <td>0.0</td>\n",
       "      <td>0.0</td>\n",
       "      <td>0.0</td>\n",
       "      <td>0.0</td>\n",
       "      <td>0.0</td>\n",
       "      <td>0.0</td>\n",
       "      <td>0.0</td>\n",
       "    </tr>\n",
       "    <tr>\n",
       "      <th>1</th>\n",
       "      <td>100.0</td>\n",
       "      <td>50.0</td>\n",
       "      <td>3.5</td>\n",
       "      <td>11.0</td>\n",
       "      <td>4.0</td>\n",
       "      <td>30</td>\n",
       "      <td>0</td>\n",
       "      <td>0</td>\n",
       "      <td>0</td>\n",
       "      <td>0</td>\n",
       "      <td>...</td>\n",
       "      <td>0.0</td>\n",
       "      <td>0.0</td>\n",
       "      <td>0.0</td>\n",
       "      <td>0.0</td>\n",
       "      <td>0.0</td>\n",
       "      <td>1.0</td>\n",
       "      <td>0.0</td>\n",
       "      <td>0.0</td>\n",
       "      <td>0.0</td>\n",
       "      <td>0.0</td>\n",
       "    </tr>\n",
       "    <tr>\n",
       "      <th>2</th>\n",
       "      <td>150.0</td>\n",
       "      <td>50.0</td>\n",
       "      <td>3.6</td>\n",
       "      <td>99.0</td>\n",
       "      <td>30.0</td>\n",
       "      <td>65</td>\n",
       "      <td>1</td>\n",
       "      <td>0</td>\n",
       "      <td>0</td>\n",
       "      <td>0</td>\n",
       "      <td>...</td>\n",
       "      <td>0.0</td>\n",
       "      <td>0.0</td>\n",
       "      <td>0.0</td>\n",
       "      <td>0.0</td>\n",
       "      <td>0.0</td>\n",
       "      <td>0.0</td>\n",
       "      <td>0.0</td>\n",
       "      <td>0.0</td>\n",
       "      <td>0.0</td>\n",
       "      <td>0.0</td>\n",
       "    </tr>\n",
       "    <tr>\n",
       "      <th>3</th>\n",
       "      <td>250.0</td>\n",
       "      <td>99.0</td>\n",
       "      <td>3.7</td>\n",
       "      <td>176.0</td>\n",
       "      <td>95.0</td>\n",
       "      <td>30</td>\n",
       "      <td>0</td>\n",
       "      <td>0</td>\n",
       "      <td>0</td>\n",
       "      <td>0</td>\n",
       "      <td>...</td>\n",
       "      <td>0.0</td>\n",
       "      <td>0.0</td>\n",
       "      <td>0.0</td>\n",
       "      <td>1.0</td>\n",
       "      <td>0.0</td>\n",
       "      <td>0.0</td>\n",
       "      <td>0.0</td>\n",
       "      <td>0.0</td>\n",
       "      <td>0.0</td>\n",
       "      <td>0.0</td>\n",
       "    </tr>\n",
       "    <tr>\n",
       "      <th>4</th>\n",
       "      <td>200.0</td>\n",
       "      <td>99.0</td>\n",
       "      <td>3.2</td>\n",
       "      <td>521.0</td>\n",
       "      <td>235.0</td>\n",
       "      <td>65</td>\n",
       "      <td>0</td>\n",
       "      <td>0</td>\n",
       "      <td>0</td>\n",
       "      <td>0</td>\n",
       "      <td>...</td>\n",
       "      <td>0.0</td>\n",
       "      <td>1.0</td>\n",
       "      <td>0.0</td>\n",
       "      <td>0.0</td>\n",
       "      <td>0.0</td>\n",
       "      <td>0.0</td>\n",
       "      <td>0.0</td>\n",
       "      <td>0.0</td>\n",
       "      <td>0.0</td>\n",
       "      <td>0.0</td>\n",
       "    </tr>\n",
       "  </tbody>\n",
       "</table>\n",
       "<p>5 rows × 142 columns</p>\n",
       "</div>\n",
       "      <button class=\"colab-df-convert\" onclick=\"convertToInteractive('df-58f9858f-7156-4b45-b820-0df163a16f7e')\"\n",
       "              title=\"Convert this dataframe to an interactive table.\"\n",
       "              style=\"display:none;\">\n",
       "        \n",
       "  <svg xmlns=\"http://www.w3.org/2000/svg\" height=\"24px\"viewBox=\"0 0 24 24\"\n",
       "       width=\"24px\">\n",
       "    <path d=\"M0 0h24v24H0V0z\" fill=\"none\"/>\n",
       "    <path d=\"M18.56 5.44l.94 2.06.94-2.06 2.06-.94-2.06-.94-.94-2.06-.94 2.06-2.06.94zm-11 1L8.5 8.5l.94-2.06 2.06-.94-2.06-.94L8.5 2.5l-.94 2.06-2.06.94zm10 10l.94 2.06.94-2.06 2.06-.94-2.06-.94-.94-2.06-.94 2.06-2.06.94z\"/><path d=\"M17.41 7.96l-1.37-1.37c-.4-.4-.92-.59-1.43-.59-.52 0-1.04.2-1.43.59L10.3 9.45l-7.72 7.72c-.78.78-.78 2.05 0 2.83L4 21.41c.39.39.9.59 1.41.59.51 0 1.02-.2 1.41-.59l7.78-7.78 2.81-2.81c.8-.78.8-2.07 0-2.86zM5.41 20L4 18.59l7.72-7.72 1.47 1.35L5.41 20z\"/>\n",
       "  </svg>\n",
       "      </button>\n",
       "      \n",
       "  <style>\n",
       "    .colab-df-container {\n",
       "      display:flex;\n",
       "      flex-wrap:wrap;\n",
       "      gap: 12px;\n",
       "    }\n",
       "\n",
       "    .colab-df-convert {\n",
       "      background-color: #E8F0FE;\n",
       "      border: none;\n",
       "      border-radius: 50%;\n",
       "      cursor: pointer;\n",
       "      display: none;\n",
       "      fill: #1967D2;\n",
       "      height: 32px;\n",
       "      padding: 0 0 0 0;\n",
       "      width: 32px;\n",
       "    }\n",
       "\n",
       "    .colab-df-convert:hover {\n",
       "      background-color: #E2EBFA;\n",
       "      box-shadow: 0px 1px 2px rgba(60, 64, 67, 0.3), 0px 1px 3px 1px rgba(60, 64, 67, 0.15);\n",
       "      fill: #174EA6;\n",
       "    }\n",
       "\n",
       "    [theme=dark] .colab-df-convert {\n",
       "      background-color: #3B4455;\n",
       "      fill: #D2E3FC;\n",
       "    }\n",
       "\n",
       "    [theme=dark] .colab-df-convert:hover {\n",
       "      background-color: #434B5C;\n",
       "      box-shadow: 0px 1px 3px 1px rgba(0, 0, 0, 0.15);\n",
       "      filter: drop-shadow(0px 1px 2px rgba(0, 0, 0, 0.3));\n",
       "      fill: #FFFFFF;\n",
       "    }\n",
       "  </style>\n",
       "\n",
       "      <script>\n",
       "        const buttonEl =\n",
       "          document.querySelector('#df-58f9858f-7156-4b45-b820-0df163a16f7e button.colab-df-convert');\n",
       "        buttonEl.style.display =\n",
       "          google.colab.kernel.accessAllowed ? 'block' : 'none';\n",
       "\n",
       "        async function convertToInteractive(key) {\n",
       "          const element = document.querySelector('#df-58f9858f-7156-4b45-b820-0df163a16f7e');\n",
       "          const dataTable =\n",
       "            await google.colab.kernel.invokeFunction('convertToInteractive',\n",
       "                                                     [key], {});\n",
       "          if (!dataTable) return;\n",
       "\n",
       "          const docLinkHtml = 'Like what you see? Visit the ' +\n",
       "            '<a target=\"_blank\" href=https://colab.research.google.com/notebooks/data_table.ipynb>data table notebook</a>'\n",
       "            + ' to learn more about interactive tables.';\n",
       "          element.innerHTML = '';\n",
       "          dataTable['output_type'] = 'display_data';\n",
       "          await google.colab.output.renderOutput(dataTable, element);\n",
       "          const docLink = document.createElement('div');\n",
       "          docLink.innerHTML = docLinkHtml;\n",
       "          element.appendChild(docLink);\n",
       "        }\n",
       "      </script>\n",
       "    </div>\n",
       "  </div>\n",
       "  "
      ],
      "text/plain": [
       "   Average_Cost  Minimum_Order  Rating  Votes  Reviews  Delivery_Time  \\\n",
       "0         200.0           50.0     3.5   12.0      4.0             30   \n",
       "1         100.0           50.0     3.5   11.0      4.0             30   \n",
       "2         150.0           50.0     3.6   99.0     30.0             65   \n",
       "3         250.0           99.0     3.7  176.0     95.0             30   \n",
       "4         200.0           99.0     3.2  521.0    235.0             65   \n",
       "\n",
       "   FastFood  Rolls  Burger  Salad  ...   25   26   27   28   29   30   31  \\\n",
       "0         1      1       1      1  ...  0.0  0.0  0.0  0.0  0.0  0.0  0.0   \n",
       "1         0      0       0      0  ...  0.0  0.0  0.0  0.0  0.0  1.0  0.0   \n",
       "2         1      0       0      0  ...  0.0  0.0  0.0  0.0  0.0  0.0  0.0   \n",
       "3         0      0       0      0  ...  0.0  0.0  0.0  1.0  0.0  0.0  0.0   \n",
       "4         0      0       0      0  ...  0.0  1.0  0.0  0.0  0.0  0.0  0.0   \n",
       "\n",
       "    32   33   34  \n",
       "0  0.0  0.0  0.0  \n",
       "1  0.0  0.0  0.0  \n",
       "2  0.0  0.0  0.0  \n",
       "3  0.0  0.0  0.0  \n",
       "4  0.0  0.0  0.0  \n",
       "\n",
       "[5 rows x 142 columns]"
      ]
     },
     "execution_count": 19,
     "metadata": {},
     "output_type": "execute_result"
    }
   ],
   "source": [
    "a=df[\"Location\"].values\n",
    "label_encoder = LabelEncoder()\n",
    "label_encoded = label_encoder.fit_transform(a)\n",
    "\n",
    "onehot_encoder = OneHotEncoder(sparse=False)\n",
    "\n",
    "onehot_encoded = onehot_encoder.fit_transform(label_encoded.reshape(-1, 1))\n",
    "\n",
    "onehot_encoded1=pd.DataFrame(onehot_encoded)\n",
    "df=df.join(onehot_encoded1)\n",
    "df.drop(columns = ['Location'],inplace = True)\n",
    "\n",
    "df.head()"
   ]
  },
  {
   "cell_type": "code",
   "execution_count": 20,
   "metadata": {
    "colab": {
     "base_uri": "https://localhost:8080/"
    },
    "id": "QfTDSP9eMTa4",
    "outputId": "5241f444-c257-4ee5-93ee-aa7984a95107"
   },
   "outputs": [
    {
     "name": "stdout",
     "output_type": "stream",
     "text": [
      "Length of total dataset 11094\n",
      "Length after dropping douplicate values 10666\n"
     ]
    }
   ],
   "source": [
    "print(\"Length of total dataset\",len(df))\n",
    "df.drop_duplicates(inplace=True)\n",
    "print(\"Length after dropping douplicate values\",len(df))"
   ]
  },
  {
   "cell_type": "markdown",
   "metadata": {
    "id": "wyJUmWHAQikZ"
   },
   "source": [
    "We're creating new variable for target variable"
   ]
  },
  {
   "cell_type": "code",
   "execution_count": 21,
   "metadata": {
    "id": "EqXfpQAjQrbD"
   },
   "outputs": [],
   "source": [
    "y = df['Delivery_Time'].values\n",
    "df.drop(columns = ['Delivery_Time'],inplace =True)"
   ]
  },
  {
   "cell_type": "code",
   "execution_count": 22,
   "metadata": {
    "colab": {
     "base_uri": "https://localhost:8080/"
    },
    "id": "maLCLN2LHv3m",
    "outputId": "7db739cd-b971-4ecf-e8d7-b4a0ac7c68c3"
   },
   "outputs": [
    {
     "name": "stdout",
     "output_type": "stream",
     "text": [
      "Average_Cost 260\n",
      "Minimum_Order 158\n",
      "Rating 166\n",
      "Votes 0\n",
      "Reviews 0\n",
      "FastFood 0\n",
      "Rolls 0\n",
      "Burger 0\n",
      "Salad 0\n",
      "Wraps 0\n",
      "IceCream 0\n",
      "Desserts 0\n",
      "Italian 0\n",
      "StreetFood 0\n",
      "Mughlai 0\n",
      "NorthIndian 0\n",
      "Chinese 0\n",
      "Cafe 0\n",
      "Beverages 0\n",
      "SouthIndian 0\n",
      "Thai 0\n",
      "Asian 0\n",
      "Mithai 0\n",
      "Momos 0\n",
      "Indonesian 0\n",
      "Biryani 0\n",
      "Kerala 0\n",
      "Bihari 0\n",
      "Mexican 0\n",
      "Japanese 0\n",
      "Bakery 0\n",
      "Burmese 0\n",
      "BubbleTea 0\n",
      "Tea 0\n",
      "Pizza 0\n",
      "Lucknowi 0\n",
      "Mangalorean 0\n",
      "European 0\n",
      "Continental 0\n",
      "Sandwich 0\n",
      "HealthyFood 0\n",
      "Bengali 0\n",
      "American 0\n",
      "Mishti 0\n",
      "Hyderabadi 0\n",
      "Andhra 0\n",
      "Assamese 0\n",
      "Maharashtrian 0\n",
      "German 0\n",
      "Arabian 0\n",
      "FingerFood 0\n",
      "Kebab 0\n",
      "Chettinad 0\n",
      "Seafood 0\n",
      "Juices 0\n",
      "Parsi 0\n",
      "Sushi 0\n",
      "Odia 0\n",
      "Tamil 0\n",
      "Cantonese 0\n",
      "NorthEastern 0\n",
      "Tibetan 0\n",
      "Lebanese 0\n",
      "Spanish 0\n",
      "BarFood 0\n",
      "Konkan 0\n",
      "Paan 0\n",
      "Steak 0\n",
      "Mediterranean 0\n",
      "Bohri 0\n",
      "Afghan 0\n",
      "Goan 0\n",
      "Gujarati 0\n",
      "BBQ 0\n",
      "RawMeats 0\n",
      "Malaysian 0\n",
      "Vietnamese 0\n",
      "SriLankan 0\n",
      "Rajasthani 0\n",
      "Poké 0\n",
      "RoastChicken 0\n",
      "Coffee 0\n",
      "Brazilian 0\n",
      "Belgian 0\n",
      "Naga 0\n",
      "Korean 0\n",
      "ModernIndian 0\n",
      "Awadhi 0\n",
      "Kashmiri 0\n",
      "French 0\n",
      "Portuguese 0\n",
      "CharcoalChicken 0\n",
      "FrozenYogurt 0\n",
      "Bangladeshi 0\n",
      "Malwani 0\n",
      "Iranian 0\n",
      "Nepalese 0\n",
      "Indian 0\n",
      "Tex-Mex 0\n",
      "Hotdogs 0\n",
      "SouthAmerican 0\n",
      "MiddleEastern 0\n",
      "African 0\n",
      "Turkish 0\n",
      "Israeli 0\n",
      "Greek 0\n",
      "0 0\n",
      "1 0\n",
      "2 0\n",
      "3 0\n",
      "4 0\n",
      "5 0\n",
      "6 0\n",
      "7 0\n",
      "8 0\n",
      "9 0\n",
      "10 0\n",
      "11 0\n",
      "12 0\n",
      "13 0\n",
      "14 0\n",
      "15 0\n",
      "16 0\n",
      "17 0\n",
      "18 0\n",
      "19 0\n",
      "20 0\n",
      "21 0\n",
      "22 0\n",
      "23 0\n",
      "24 0\n",
      "25 0\n",
      "26 0\n",
      "27 0\n",
      "28 0\n",
      "29 0\n",
      "30 0\n",
      "31 0\n",
      "32 0\n",
      "33 0\n",
      "34 0\n"
     ]
    }
   ],
   "source": [
    "for i in df.columns:\n",
    "  q1 = df[i].quantile(0.25)\n",
    "  q3 = df[i].quantile(0.75)\n",
    "  iqr = q3-q1\n",
    "  print(i,sum((df[i] < q1-1.5*iqr) & (df[i] < q3+1.5*iqr)))"
   ]
  },
  {
   "cell_type": "markdown",
   "metadata": {
    "id": "alJ5VxtGMCBV"
   },
   "source": [
    "We could see that there are outliers in Minimum_Order,Average_cost and Rating columns. we would use winsorize method to remove outliers. The methods takes these output values and fixes them to a certain quantile limit"
   ]
  },
  {
   "cell_type": "code",
   "execution_count": 23,
   "metadata": {
    "id": "-zRlUv-BOT2i"
   },
   "outputs": [],
   "source": [
    "from scipy.stats.mstats import winsorize\n",
    "\n",
    "df_win = winsorize(df,(0.02,0.02))"
   ]
  },
  {
   "cell_type": "code",
   "execution_count": 24,
   "metadata": {
    "id": "1hhzqSNoP_er"
   },
   "outputs": [],
   "source": [
    "x = df_win.data    # x variables"
   ]
  },
  {
   "cell_type": "code",
   "execution_count": 25,
   "metadata": {
    "colab": {
     "base_uri": "https://localhost:8080/"
    },
    "id": "BKi220FSQTwr",
    "outputId": "326e880e-d281-4f40-c153-a82b3275b3a8"
   },
   "outputs": [
    {
     "data": {
      "text/plain": [
       "array([30, 30, 65, ..., 30, 30, 30])"
      ]
     },
     "execution_count": 25,
     "metadata": {},
     "output_type": "execute_result"
    }
   ],
   "source": [
    "y       #y or predictor varianle"
   ]
  },
  {
   "cell_type": "markdown",
   "metadata": {
    "id": "PPFeTMhYUmUE"
   },
   "source": [
    "If you observe the target variable its clearly but the number of unique values in it is just 6. We can treat this as a classification problem or we can treat this as a regresson problem since these values are not continuous. \n",
    "\n",
    "This is Ordinal Regression. We can use a classification algorithm with a bit different implementation to use it for Ordinal Regression\n",
    "\n",
    "\n",
    "(Reference :https://towardsdatascience.com/simple-trick-to-train-an-ordinal-regression-with-any-classifier-6911183d2a3c)"
   ]
  },
  {
   "cell_type": "code",
   "execution_count": 33,
   "metadata": {
    "id": "Gyk0NgpRQT3N"
   },
   "outputs": [],
   "source": [
    "from sklearn.base import clone\n",
    "\n",
    "\n",
    "class OrdinalClassifier():\n",
    "    \n",
    "    def __init__(self, clf):\n",
    "        self.clf = clf\n",
    "        self.clfs = {}\n",
    "    \n",
    "    def fit(self, X, y):\n",
    "        self.unique_class = np.sort(np.unique(y))\n",
    "        if self.unique_class.shape[0] > 2:\n",
    "            for i in range(self.unique_class.shape[0]-1):\n",
    "                # for each k - 1 ordinal value we fit a binary classification problem\n",
    "                binary_y = (y > self.unique_class[i]).astype(np.uint8)\n",
    "                clf = clone(self.clf)\n",
    "                clf.fit(X, binary_y)\n",
    "                self.clfs[i] = clf\n",
    "                \n",
    "    def predict_proba(self, X):\n",
    "\n",
    "        clfs_predict = {k:self.clfs[k].predict_proba(X) for k in self.clfs}\n",
    "        predicted = []\n",
    "        for i,y in enumerate(self.unique_class):\n",
    "          \n",
    "            if i == 0:\n",
    "                # V1 = 1 - Pr(y > V1)\n",
    "                predicted.append(1 - clfs_predict[i][:,1])\n",
    "            elif i in clfs_predict:\n",
    "                # Vi = Pr(y > Vi-1) - Pr(y > Vi)\n",
    "                predicted.append(clfs_predict[i-1][:,1] - clfs_predict[i][:,1])\n",
    "            else:\n",
    "                # Vk = Pr(y > Vk-1)\n",
    "                predicted.append(clfs_predict[i-1][:,1])\n",
    "        return np.vstack(predicted).T\n",
    "    \n",
    "    def predict(self, X):\n",
    "        return np.argmax(self.predict_proba(X), axis=1)"
   ]
  },
  {
   "cell_type": "code",
   "execution_count": 51,
   "metadata": {
    "id": "KejfmZ-gVqYX"
   },
   "outputs": [],
   "source": [
    "from sklearn.tree import DecisionTreeClassifier\n",
    "\n",
    "clf = OrdinalClassifier(DecisionTreeClassifier(max_depth = 9))"
   ]
  },
  {
   "cell_type": "code",
   "execution_count": 52,
   "metadata": {
    "id": "JM1-c6OkWnHB"
   },
   "outputs": [],
   "source": [
    "from sklearn.model_selection import train_test_split\n",
    "\n",
    "x_train,x_test,y_train,y_test = train_test_split(x,y,test_size = 0.2,stratify = y)"
   ]
  },
  {
   "cell_type": "code",
   "execution_count": 53,
   "metadata": {
    "id": "XrFKBrMmVqep"
   },
   "outputs": [],
   "source": [
    "clf.fit(x_train,y_train)"
   ]
  },
  {
   "cell_type": "code",
   "execution_count": 54,
   "metadata": {
    "id": "ik62ojzrVqhM"
   },
   "outputs": [],
   "source": [
    "y_pred = clf.predict(x_test)"
   ]
  },
  {
   "cell_type": "code",
   "execution_count": 55,
   "metadata": {
    "id": "XN8bfaTTvLmt"
   },
   "outputs": [],
   "source": [
    "di = {0:10,1:12,2:20,3:30,4:45,5:65,6:80}"
   ]
  },
  {
   "cell_type": "code",
   "execution_count": 56,
   "metadata": {
    "id": "oyhTOWVhVqj0"
   },
   "outputs": [],
   "source": [
    "y_pred = [di[x] for x in y_pred]"
   ]
  },
  {
   "cell_type": "code",
   "execution_count": 57,
   "metadata": {
    "colab": {
     "base_uri": "https://localhost:8080/"
    },
    "id": "qV519I1GQT7G",
    "outputId": "9e5ae477-7893-42da-ac25-1bdc904420e2"
   },
   "outputs": [
    {
     "data": {
      "text/plain": [
       "12.07974906173817"
      ]
     },
     "execution_count": 57,
     "metadata": {},
     "output_type": "execute_result"
    }
   ],
   "source": [
    "from sklearn.metrics import mean_squared_error\n",
    "\n",
    "mean_squared_error(y_pred,y_test)**(0.5)"
   ]
  },
  {
   "cell_type": "markdown",
   "metadata": {
    "id": "lBVr94TutR5j"
   },
   "source": [
    "Now let's test how a normal decisionTreeRegressor works against this"
   ]
  },
  {
   "cell_type": "code",
   "execution_count": 41,
   "metadata": {
    "colab": {
     "base_uri": "https://localhost:8080/"
    },
    "id": "5GhpWCnnyupe",
    "outputId": "bf921ef0-b4cb-492c-dc8f-21bce8ee34dc"
   },
   "outputs": [
    {
     "data": {
      "text/plain": [
       "DecisionTreeRegressor(max_depth=9)"
      ]
     },
     "execution_count": 41,
     "metadata": {},
     "output_type": "execute_result"
    }
   ],
   "source": [
    "from sklearn.tree import DecisionTreeRegressor\n",
    "\n",
    "clf = DecisionTreeRegressor(max_depth = 9)\n",
    "clf.fit(x_train,y_train)"
   ]
  },
  {
   "cell_type": "code",
   "execution_count": 42,
   "metadata": {
    "id": "odjEE8QkzpXF"
   },
   "outputs": [],
   "source": [
    "y_pred_train = clf.predict(x_train)\n",
    "y_pred_test = clf.predict(x_test)"
   ]
  },
  {
   "cell_type": "code",
   "execution_count": 43,
   "metadata": {
    "colab": {
     "base_uri": "https://localhost:8080/"
    },
    "id": "aR7sPG6ZzsJt",
    "outputId": "0aec5b66-66da-4e13-9b52-fb4b968fbb57"
   },
   "outputs": [
    {
     "name": "stdout",
     "output_type": "stream",
     "text": [
      "Train rmse 9.260977784802053\n",
      "Test rmse 10.319948564287333\n"
     ]
    }
   ],
   "source": [
    "from sklearn.metrics import mean_squared_error\n",
    "\n",
    "print(\"Train rmse\",mean_squared_error(y_train,y_pred_train)**0.5)\n",
    "\n",
    "print(\"Test rmse\",mean_squared_error(y_test,y_pred_test)**0.5)"
   ]
  },
  {
   "cell_type": "markdown",
   "metadata": {
    "id": "_82unKWGtfW9"
   },
   "source": [
    "We could see that there is no improvement in rmse when ordinal regressor is used. So like in most machine learning problems its better to test and see how a model performs even though its meant for that specific problem"
   ]
  }
 ],
 "metadata": {
  "colab": {
   "collapsed_sections": [],
   "name": "Ordinal_Regression.ipynb",
   "provenance": []
  },
  "kernelspec": {
   "display_name": "Python 3",
   "language": "python",
   "name": "python3"
  },
  "language_info": {
   "codemirror_mode": {
    "name": "ipython",
    "version": 3
   },
   "file_extension": ".py",
   "mimetype": "text/x-python",
   "name": "python",
   "nbconvert_exporter": "python",
   "pygments_lexer": "ipython3",
   "version": "3.8.5"
  }
 },
 "nbformat": 4,
 "nbformat_minor": 1
}
